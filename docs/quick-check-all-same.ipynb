{
 "cells": [
  {
   "cell_type": "code",
   "execution_count": 12,
   "metadata": {},
   "outputs": [],
   "source": [
    "import pickle\n",
    "import numpy as np\n",
    "from collections import defaultdict"
   ]
  },
  {
   "cell_type": "code",
   "execution_count": 4,
   "metadata": {},
   "outputs": [],
   "source": [
    "def recursive_dd():\n",
    "    return defaultdict(recursive_dd)"
   ]
  },
  {
   "cell_type": "code",
   "execution_count": 5,
   "metadata": {},
   "outputs": [],
   "source": [
    "with open('../results/sim100-iter100-seed0.pkl', 'rb') as f:\n",
    "    old = pickle.load(f)"
   ]
  },
  {
   "cell_type": "code",
   "execution_count": 6,
   "metadata": {},
   "outputs": [],
   "source": [
    "with open('../results/sim100-iter100-seed0-after.pkl', 'rb') as f:\n",
    "    new = pickle.load(f)"
   ]
  },
  {
   "cell_type": "code",
   "execution_count": 38,
   "metadata": {},
   "outputs": [],
   "source": [
    "old_lipo = old['AdaLIPO']\n",
    "new_lipo = new['AdaLIPO']"
   ]
  },
  {
   "cell_type": "code",
   "execution_count": 66,
   "metadata": {},
   "outputs": [],
   "source": [
    "n_sim = len(new_lipo['Rosenbrock'])"
   ]
  },
  {
   "cell_type": "code",
   "execution_count": 81,
   "metadata": {},
   "outputs": [
    {
     "name": "stdout",
     "output_type": "stream",
     "text": [
      "Holder Table\n",
      "\tall same : True\n",
      "Rosenbrock\n",
      "\tall same : True\n",
      "Sphere\n",
      "\tall same : True\n",
      "Linear Slope\n",
      "\tall same : True\n",
      "Deb N.1\n",
      "\tall same : True\n"
     ]
    }
   ],
   "source": [
    "samey = []\n",
    "for func in old_lipo.keys():\n",
    "    for sim in np.arange(n_sim):\n",
    "        n = np.array(new_lipo[func][sim]['y'])\n",
    "        o = np.array(old_lipo[func][sim]['y'])[:-1]\n",
    "        samey.append(np.allclose(n, o))\n",
    "    print(func + '\\n\\tall same : ' + str(np.all(samey)))"
   ]
  },
  {
   "cell_type": "code",
   "execution_count": 82,
   "metadata": {},
   "outputs": [
    {
     "name": "stdout",
     "output_type": "stream",
     "text": [
      "Holder Table\n",
      "\tall same : True\n",
      "Rosenbrock\n",
      "\tall same : True\n",
      "Sphere\n",
      "\tall same : True\n",
      "Linear Slope\n",
      "\tall same : True\n",
      "Deb N.1\n",
      "\tall same : True\n"
     ]
    }
   ],
   "source": [
    "samey = []\n",
    "for func in old_lipo.keys():\n",
    "    for sim in np.arange(n_sim):\n",
    "        n = np.array(new_lipo[func][sim]['x'])\n",
    "        o = np.array(old_lipo[func][sim]['x'])[:-1]\n",
    "        samey.append(np.allclose(n, o))\n",
    "    print(func + '\\n\\tall same : ' + str(np.all(samey)))"
   ]
  }
 ],
 "metadata": {
  "kernelspec": {
   "display_name": "Python 3",
   "language": "python",
   "name": "python3"
  },
  "language_info": {
   "codemirror_mode": {
    "name": "ipython",
    "version": 3
   },
   "file_extension": ".py",
   "mimetype": "text/x-python",
   "name": "python",
   "nbconvert_exporter": "python",
   "pygments_lexer": "ipython3",
   "version": "3.6.4"
  }
 },
 "nbformat": 4,
 "nbformat_minor": 2
}
